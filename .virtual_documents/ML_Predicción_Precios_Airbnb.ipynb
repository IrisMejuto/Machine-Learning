





# Importar dependencias y configuración
from module_utils import *


# Constantes del proyecto
DATASET_PATH = "data/airbnb-listings-extract.csv"
RANDOM_STATE = 42
TEST_SIZE = 0.2
VALIDATION_SIZE = 0.15


# Agregar este código para diagnosticar
print(f"Archivo existe: {os.path.exists(DATASET_PATH)}")
print(f"Tamaño archivo: {os.path.getsize(DATASET_PATH) if os.path.exists(DATASET_PATH) else 'No existe'} bytes")

# Ver contenido crudo
with open(DATASET_PATH, 'r') as f:
    print(f"Primeras líneas del archivo:")
    print(f.read(200))








# Cargar dataset completo
airbnb_data = pd.read_csv(DATASET_PATH, sep=None, engine="python")
print(f'Dimensiones del dataset: {airbnb_data.shape}')
airbnb_data.head(5)


airbnb_data.info()


# Tipos de datos
print(f"\nTipos de datos:")
print(airbnb_data.dtypes.value_counts())





# Estadísticas descriptivas
airbnb_data['Price'].describe().round()


# Valores nulos
print(f"Valores nulos en Price: {airbnb_data['Price'].isnull().sum()}")


# Distribución variable Precio
plt.figure(figsize=(12, 4))
plt.subplot(1, 2, 1)
airbnb_data['Price'].hist(bins=50)
plt.title('Distribución de Price')
plt.xlabel('Price')


# Outliers
plt.subplot(1, 2, 2)
airbnb_data['Price'].plot.box()
plt.title('Boxplot de Price')
plt.show()








# Variables numéricas
numeric_cols = airbnb_data.select_dtypes(include=[np.number]).columns.tolist()
if 'Price' in numeric_cols:
    numeric_cols.remove('Price')

print(f"Variables numéricas: {len(numeric_cols)}")

for i, col in enumerate(numeric_cols):
    print(f"{i+1}. {col}")


# Estadísticas básicas
airbnb_data[numeric_cols].describe()


# Distribuciones de variables numéricas
key_numeric = ['Accommodates', 'Bedrooms', 'Bathrooms', 'Beds', 'Square Feet']
existing_cols = [col for col in key_numeric if col in airbnb_data.columns]

if existing_cols:
    n_vars = len(existing_cols[:4])  # Máximo 4 variables
    fig, axes = plt.subplots(n_vars, 2, figsize=(12, 4*n_vars))  # n_vars filas, 2 columnas
    
    # Si solo hay 1 variable, axes no es array 2D
    if n_vars == 1:
        axes = axes.reshape(1, -1)
    
    for i, col in enumerate(existing_cols[:4]):
        # Histograma
        airbnb_data[col].hist(bins=20, ax=axes[i, 0])
        axes[i, 0].set_title(f'Distribución de {col}')
        
        # Boxplot
        airbnb_data[col].plot.box(ax=axes[i, 1])
        axes[i, 1].set_title(f'Outliers de {col}')
    
    plt.tight_layout()
    plt.show()





# Variables categóricas
categorical_cols = airbnb_data.select_dtypes(include=['object']).columns.tolist()
print(f"Variables categóricas: {len(categorical_cols)}")

# Valores únicos
vl_unicos_data = []
for col in categorical_cols:
    unique_count = airbnb_data[col].nunique()
    total_count = len(airbnb_data)
    vl_unicos_data.append({
        'Variable': col,
        'Valores_Únicos': unique_count,
        'Porcentaje': round(unique_count/total_count*100, 1)
    })

vl_unicos_df = pd.DataFrame(vl_unicos_data)
print("Cardinalidad de variables categóricas:")
vl_unicos_df


# Variables categóricas más relevantes
interesting_categorical = ['Property Type', 'Room Type', 'Bed Type', 'Cancellation Policy', 
                          'Neighbourhood Cleansed', 'Host Response Time']
existing_cat_cols = [col for col in interesting_categorical if col in airbnb_data.columns]

print(f"Análisis de frecuencias - {len(existing_cat_cols)} variables categóricas:")

# Frecuencias
for col in existing_cat_cols:
    print(f"--- {col} ---")
    value_counts = airbnb_data[col].value_counts()
    
    freq_df = pd.DataFrame({
    'Valor': value_counts.index,
    'Frecuencia': value_counts.values,
    'Porcentaje': ((value_counts.values / len(airbnb_data)) * 100).round(1) 
    }).head(5)

    print(f"Total categorías: {len(value_counts)}\n")
    display(freq_df)
  





# Valores faltantes
missing_data = airbnb_data.isnull().sum()
missing_percent =(missing_data / len(airbnb_data)).round(4) * 100

# DataFrame para análisis
missing_df = pd.DataFrame({
    'Variable': missing_data.index,
    'Missing_Count': missing_data.values,
    'Missing_Percent': missing_percent.values
}).sort_values('Missing_Percent', ascending=False)

# Missing values
missing_df = missing_df[missing_df['Missing_Count'] > 0]
missing_df.head(15)


# Variables con > 70% missing (candidatas a eliminar)
high_missing = missing_df[missing_df['Missing_Percent'] > 70]
print(f"Variables con >70% missing: {len(high_missing)}")
high_missing


# Valores inconsistentes en variables numéricas clave
print("Valores inconsistentes detectados:")

# Price: valores negativos o cero
if 'Price' in airbnb_data.columns:
    invalid_price = airbnb_data[airbnb_data['Price'] <= 0]
    print(f"Price <= 0: {len(invalid_price)} registros")

# Accommodates: valores negativos o cero
if 'Accommodates' in airbnb_data.columns:
    invalid_accommodates = airbnb_data[airbnb_data['Accommodates'] <= 0]
    print(f"Accommodates <= 0: {len(invalid_accommodates)} registros")

# Bedrooms: valores negativos
if 'Bedrooms' in airbnb_data.columns:
    invalid_bedrooms = airbnb_data[airbnb_data['Bedrooms'] < 0]
    print(f"Bedrooms < 0: {len(invalid_bedrooms)} registros")

# Bathrooms: valores negativos
if 'Bathrooms' in airbnb_data.columns:
    invalid_bathrooms = airbnb_data[airbnb_data['Bathrooms'] < 0]
    print(f"Bathrooms < 0: {len(invalid_bathrooms)} registros")


# Rangos extremos (posibles errores)
print("\nRangos extremos detectados:")
if 'Price' in airbnb_data.columns:
    max_price = airbnb_data['Price'].max()
    extreme_price = airbnb_data[airbnb_data['Price'] > 1000]
    print(f"Price > 1000€: {len(extreme_price)} registros (máximo: {max_price})")


# Resumen de variables problemáticas para eliminar
vars_to_remove = []

# Variables con >70% missing
high_missing_vars = missing_df[missing_df['Missing_Percent'] > 70]['Variable'].tolist()
vars_to_remove.extend(high_missing_vars)

# Variables irrelevantes (IDs, URLs)
irrelevant_vars = ['ID', 'Listing Url', 'Scrape ID', 'Host ID', 'Host URL', 
                   'Thumbnail Url', 'Medium Url', 'Picture Url', 'XL Picture Url',
                   'Host Thumbnail Url', 'Host Picture Url']
existing_irrelevant = [col for col in irrelevant_vars if col in airbnb_data.columns]
vars_to_remove.extend(existing_irrelevant)

# Resumen final
print(f"Variables problemáticas identificadas: {len(set(vars_to_remove))}")
print(f"Variables con >70% missing: {len(high_missing_vars)}")
print(f"Variables irrelevantes (IDs, URLs): {len(existing_irrelevant)}")

# DataFrame resumen
problematic_df = pd.DataFrame({
    'Variable': list(set(vars_to_remove)),
    'Motivo': ['High Missing' if var in high_missing_vars else 'Irrelevant' 
               for var in set(vars_to_remove)]
})
problematic_df





# Correlaciones entre variables numéricas
numeric_cols = airbnb_data.select_dtypes(include=[np.number]).columns.tolist()
correlation_matrix = airbnb_data[numeric_cols].corr()

# Mostrar correlaciones con Price
price_correlations = correlation_matrix['Price'].abs().sort_values(ascending=False)
price_correlations


# Matriz de Correlation
corr = np.abs(airbnb_data.drop(['Price'], axis=1).corr(numeric_only=True))

# Generate a mask for the upper triangle
mask = np.zeros_like(corr, dtype=bool)
mask[np.triu_indices_from(mask)] = True

# Set up the matplotlib figure
f, ax = plt.subplots(figsize=(12, 10))

# Draw the heatmap with the mask and correct aspect ratio
sns.heatmap(corr, mask=mask,vmin = 0.0, vmax=1.0, center=0.5,
            linewidths=.1, cmap="YlGnBu", cbar_kws={"shrink": .8})

plt.show()


# Correlaciones específicas con Price (gráfico de barras)
plt.figure(figsize=(10, 8))
ax = price_correlations.head(10).plot(kind='barh')
ax.bar_label(ax.containers[0], fmt='%.3f', padding=5)
plt.title('Top 10 Correlaciones con Price')
plt.xlabel('Correlación Absoluta')

# Quitar eje X
ax.set_xlabel('')
ax.set_xticks([])

# Expandir límites para que quepan los valores
ax.set_xlim(0, price_correlations.head(10).max() * 1.10)

plt.tight_layout()
plt.show()


# Variables más importantes (resumen)
print("Variables más correlacionadas con Price:")
top_correlations = price_correlations.head(5)
for var, corr in top_correlations.items():
    print(f"{var}: {corr:.3f}")

print(f"\nVariables con correlación > 0.3:")
strong_correlations = price_correlations[price_correlations > 0.3]
strong_correlations





# División datos
train_data, test_data = train_test_split(airbnb_data, test_size=0.2, random_state=42)

print(f"Train: {train_data.shape}")
print(f"Test: {test_data.shape}")


# Comparación datos en train y test
print("Distribución de Price:")
print(f"Train - Media: {train_data['Price'].mean():.2f}, Mediana: {train_data['Price'].median():.2f}")
print(f"Test  - Media: {test_data['Price'].mean():.2f}, Mediana: {test_data['Price'].median():.2f}")

# Histograma
plt.figure(figsize=(12, 4))
plt.subplot(1, 2, 1)
train_data['Price'].hist(bins=50, alpha=0.7, label='Train')
test_data['Price'].hist(bins=50, alpha=0.7, label='Test')
plt.legend()
plt.title('Distribución Price: Train vs Test')
plt.xlabel('Price')








# Eliminar variables problemáticas
train_data_clean = train_data.drop(columns=list(set(vars_to_remove)))
test_data_clean = test_data.drop(columns=list(set(vars_to_remove)))

print(f"Variables eliminadas: {len(set(vars_to_remove))}")
print(f"Train: {train_data.shape} → {train_data_clean.shape}")
print(f"Test: {test_data.shape} → {test_data_clean.shape}")





# Análisis de valores faltantes después de limpieza
missing_clean = train_data_clean.isnull().sum()
missing_clean = missing_clean[missing_clean > 0].sort_values(ascending=False)

print(f"Variables con missing values: {len(missing_clean)}")
missing_clean










































