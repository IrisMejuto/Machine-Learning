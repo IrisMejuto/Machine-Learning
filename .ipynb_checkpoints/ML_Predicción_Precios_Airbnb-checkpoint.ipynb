{
 "cells": [
  {
   "cell_type": "markdown",
   "id": "08315bf6-51a4-4cda-bb0b-5d2f0457512c",
   "metadata": {},
   "source": [
    "## **Definición del Problema**\n",
    "- **Objetivo**: Predecir precio por noche de propiedades Airbnb\n",
    "- **Tipo de problema**: Regresión (ML Supervisado)\n",
    "- **Variable objetivo**: Price (€)\n",
    "- **Contexto de negocio**: Identificar factores que más influyen en el precio\n",
    "- **Métrica principal**: RMSE (error en euros)"
   ]
  },
  {
   "cell_type": "markdown",
   "id": "97205ffd-7b5a-4182-870a-f9e82b8793ad",
   "metadata": {},
   "source": [
    "## **1. Configuración Inicial**\n",
    "- Importación de dependencias (`module_utils`)\n",
    "- Configuración global del proyecto\n",
    "- Definición de constantes y rutas"
   ]
  },
  {
   "cell_type": "code",
   "execution_count": 2,
   "id": "d4da1b01-28df-4dc1-adad-6a94e042049e",
   "metadata": {},
   "outputs": [
    {
     "name": "stdout",
     "output_type": "stream",
     "text": [
      "Dependencias y configuración cargadas correctamente\n"
     ]
    }
   ],
   "source": [
    "# Importar dependencias y configuración\n",
    "from module_utils import *"
   ]
  },
  {
   "cell_type": "code",
   "execution_count": 3,
   "id": "7684077e-61b4-4369-bbfc-4eda487ae06f",
   "metadata": {},
   "outputs": [],
   "source": [
    "# Constantes del proyecto\n",
    "DATASET_PATH = \"airbnb-listings-extract.csv\"\n",
    "RANDOM_STATE = 42\n",
    "TEST_SIZE = 0.2\n",
    "VALIDATION_SIZE = 0.15"
   ]
  },
  {
   "cell_type": "code",
   "execution_count": 8,
   "id": "fae83e63-a56b-4dae-b122-a682eff242a5",
   "metadata": {},
   "outputs": [
    {
     "name": "stdout",
     "output_type": "stream",
     "text": [
      "Variable objetivo: Price\n",
      "Random state: 42\n",
      "Tamaño test: 0.2\n",
      "Tamaño validation: 0.15\n",
      "------\n",
      "Configuración inicial completada\n"
     ]
    }
   ],
   "source": [
    "# Configuración específica del proyecto\n",
    "TARGET_COLUMN = \"Price\"\n",
    "print(f\"Variable objetivo: {TARGET_COLUMN}\")\n",
    "print(f\"Random state: {RANDOM_STATE}\")\n",
    "print(f\"Tamaño test: {TEST_SIZE}\")\n",
    "print(f\"Tamaño validation: {VALIDATION_SIZE}\")\n",
    "print(\"------\")\n",
    "print(\"Configuración inicial completada\")"
   ]
  },
  {
   "cell_type": "code",
   "execution_count": null,
   "id": "896631bb-1608-4bb5-b87b-bb77f3b27170",
   "metadata": {},
   "outputs": [],
   "source": []
  },
  {
   "cell_type": "markdown",
   "id": "8ad67da9-b80e-44e3-8607-a1b94c71c11f",
   "metadata": {},
   "source": [
    "## **2. Análisis Exploratorio de Datos (EDA)**\n"
   ]
  },
  {
   "cell_type": "markdown",
   "id": "d38e100f-d917-4475-b460-cc962526559b",
   "metadata": {},
   "source": [
    "### **2.1 Carga y Visión General**\n",
    "- Carga del dataset completo\n",
    "- Información básica (dimensiones, tipos, memoria)\n",
    "- Primeras observaciones del dataset"
   ]
  },
  {
   "cell_type": "code",
   "execution_count": null,
   "id": "fd5e7798-027f-49a1-82a0-86ac2b25e2e2",
   "metadata": {},
   "outputs": [],
   "source": []
  },
  {
   "cell_type": "code",
   "execution_count": null,
   "id": "0b11cd97-93c8-4d05-a21b-a882b2539a90",
   "metadata": {},
   "outputs": [],
   "source": []
  },
  {
   "cell_type": "markdown",
   "id": "b90fb29c-6f77-4bcd-b3ba-4a8e641e29fe",
   "metadata": {},
   "source": [
    "### **2.2 Análisis de la Variable Objetivo (Price)**\n",
    "- Distribución de precios\n",
    "- Estadísticas descriptivas\n",
    "- Detección de outliers\n",
    "- Análisis de normalidad"
   ]
  },
  {
   "cell_type": "code",
   "execution_count": null,
   "id": "18e59b61-c9cc-405e-b569-9bb237226467",
   "metadata": {},
   "outputs": [],
   "source": []
  },
  {
   "cell_type": "code",
   "execution_count": null,
   "id": "7064d33f-1893-4944-a12e-a53e9d34c793",
   "metadata": {},
   "outputs": [],
   "source": []
  },
  {
   "cell_type": "markdown",
   "id": "9e9dd415-175f-40c3-9f99-a7d0f71d064d",
   "metadata": {},
   "source": [
    "### **2.2 Análisis de la Variable Objetivo (Price)**\n",
    "- Distribución de precios\n",
    "- Estadísticas descriptivas\n",
    "- Detección de outliers\n",
    "- Análisis de normalidad"
   ]
  },
  {
   "cell_type": "markdown",
   "id": "e8045f58-4d51-49aa-a8d6-92c80a0f2f81",
   "metadata": {},
   "source": [
    "### **2.3 Análisis de Variables Predictoras**\n",
    "- Variables numéricas: distribuciones y estadísticas\n",
    "- Variables categóricas: cardinalidad y frecuencias\n",
    "- Variables de texto: longitud y calidad"
   ]
  },
  {
   "cell_type": "markdown",
   "id": "42b9cc8e-4d6a-4f78-a770-50c3756a2d65",
   "metadata": {},
   "source": [
    "### **2.4 Calidad de Datos**\n",
    "- Análisis de valores faltantes\n",
    "- Detección de duplicados\n",
    "- Identificación de inconsistencias\n",
    "- Evaluación de variables problemáticas"
   ]
  },
  {
   "cell_type": "markdown",
   "id": "b4a0d22f-cad9-421c-87ff-bf7fc7c88103",
   "metadata": {},
   "source": [
    "### **2.5 Análisis de Relaciones**\n",
    "- Correlaciones entre variables numéricas\n",
    "- Relación variables predictoras con Price\n",
    "- Identificación de multicolinealidad\n",
    "- Variables potencialmente importantes"
   ]
  },
  {
   "cell_type": "markdown",
   "id": "398cf1b7-1032-4842-bea0-abe579b9416c",
   "metadata": {},
   "source": [
    "## **3. División de Datos**\n",
    "- División estratégica Train/Validation/Test (70/15/15)\n",
    "- Verificación de distribuciones\n",
    "- Guardado de conjuntos para reproducibilidad"
   ]
  },
  {
   "cell_type": "markdown",
   "id": "e27f6584-f15d-4f7a-a32b-b5f11b97f32a",
   "metadata": {},
   "source": [
    "## **4. Preprocesamiento**"
   ]
  },
  {
   "cell_type": "markdown",
   "id": "06231430-85b6-44ea-9f04-e6183a221ec4",
   "metadata": {},
   "source": [
    "### **4.1 Limpieza de Datos**\n",
    "- Eliminación de variables irrelevantes (IDs, URLs)\n",
    "- Tratamiento de outliers en variables clave\n",
    "- Eliminación de registros problemáticos"
   ]
  },
  {
   "cell_type": "markdown",
   "id": "f5d81774-edca-4863-9351-8ee96d3db066",
   "metadata": {},
   "source": [
    "### **4.2 Manejo de Valores Faltantes**\n",
    "- Análisis de patrones de missing values\n",
    "- Estrategias de imputación por tipo de variable\n",
    "- Aplicación correcta (fit en train, transform en todos)"
   ]
  },
  {
   "cell_type": "markdown",
   "id": "3a22b029-edbe-4228-8642-efe7be4c9144",
   "metadata": {},
   "source": [
    "### **4.3 Feature Engineering**\n",
    "- Creación de variables derivadas (sin data leakage)\n",
    "- Transformación de variables categóricas (encoding)\n",
    "- Normalización/escalado de variables numéricas\n",
    "- Ingeniería de características temporales y geográficas"
   ]
  },
  {
   "cell_type": "markdown",
   "id": "827ff572-6be3-46eb-99c7-312e601d4a18",
   "metadata": {},
   "source": [
    "### **4.4 Selección de Variables**\n",
    "- Eliminación de variables con alta correlación\n",
    "- Filtrado por importancia estadística\n",
    "- Selección basada en Random Forest\n",
    "- Variables finales para modelado\n"
   ]
  },
  {
   "cell_type": "markdown",
   "id": "392929f7-ec52-46d1-a6b1-64a787c3aa36",
   "metadata": {},
   "source": [
    "## **5. Modelado y Entrenamiento**"
   ]
  },
  {
   "cell_type": "markdown",
   "id": "b59815f9-79f2-443a-9442-93a59491197c",
   "metadata": {},
   "source": [
    "### **5.1 Baseline Model**\n",
    "- Modelo simple de referencia (Linear Regression)\n",
    "- Evaluación baseline en validation\n",
    "- Establecimiento de benchmark"
   ]
  },
  {
   "cell_type": "markdown",
   "id": "c7e81ed4-09de-4c72-9154-d499d6aa0213",
   "metadata": {},
   "source": [
    "### **5.2 Random Forest**\n",
    "- Entrenamiento con hiperparámetros por defecto\n",
    "- Evaluación en validation set\n",
    "- Análisis de importancia de variables"
   ]
  },
  {
   "cell_type": "markdown",
   "id": "15ac0fde-430b-44bd-b403-6433a4693a28",
   "metadata": {},
   "source": [
    "### **5.3 Optimización de Hiperparámetros**\n",
    "- Grid Search / Random Search\n",
    "- Cross-validation para selección\n",
    "- Modelo optimizado final"
   ]
  },
  {
   "cell_type": "markdown",
   "id": "106b9602-95c1-45ec-bb86-ce1b8a8b883c",
   "metadata": {},
   "source": [
    "### **5.4 Comparación de Modelos**\n",
    "- Evaluación de múltiples algoritmos\n",
    "- Selección del mejor modelo\n",
    "- Justificación de la elección"
   ]
  },
  {
   "cell_type": "markdown",
   "id": "1662848a-84ca-4a6b-8571-7ccdd2217bb2",
   "metadata": {},
   "source": [
    "## **6. Evaluación Final**"
   ]
  },
  {
   "cell_type": "markdown",
   "id": "28c7a03e-6811-46ee-a7d4-45fbe1abce4c",
   "metadata": {},
   "source": [
    "### **6.1 Evaluación en Test Set**\n",
    "- Predicciones en conjunto de test (una sola vez)\n",
    "- Métricas finales (RMSE, MAE, R²)\n",
    "- Comparación con baseline y validation"
   ]
  },
  {
   "cell_type": "markdown",
   "id": "4176c280-7464-4a16-be0f-b29791307f21",
   "metadata": {},
   "source": [
    "### **6.2 Análisis de Errores**\n",
    "- Distribución de residuos\n",
    "- Identificación de patrones en errores\n",
    "- Casos con mayor error de predicción\n",
    "- Análisis por segmentos (tipo propiedad, ubicación)"
   ]
  },
  {
   "cell_type": "markdown",
   "id": "65158a69-8acd-4f9f-b386-b8c7be1eb402",
   "metadata": {},
   "source": [
    "\n",
    "### **6.3 Interpretabilidad del Modelo**\n",
    "- Variables más importantes\n",
    "- Análisis de contribuciones\n",
    "- Insights de negocio derivados"
   ]
  },
  {
   "cell_type": "markdown",
   "id": "b0eb5746-88ef-42dd-8980-3c8bb05d7fa0",
   "metadata": {},
   "source": [
    "## **7. Conclusiones y Recomendaciones**\n"
   ]
  },
  {
   "cell_type": "markdown",
   "id": "ad1eb873-eb59-4ef7-90cf-b17e80e76922",
   "metadata": {},
   "source": [
    "### **7.1 Resultados Obtenidos**\n",
    "- Performance final del modelo\n",
    "- Comparación con objetivos iniciales\n",
    "- Limitaciones identificadas"
   ]
  }
 ],
 "metadata": {
  "kernelspec": {
   "display_name": "Python 3 (ipykernel)",
   "language": "python",
   "name": "python3"
  },
  "language_info": {
   "codemirror_mode": {
    "name": "ipython",
    "version": 3
   },
   "file_extension": ".py",
   "mimetype": "text/x-python",
   "name": "python",
   "nbconvert_exporter": "python",
   "pygments_lexer": "ipython3",
   "version": "3.11.9"
  }
 },
 "nbformat": 4,
 "nbformat_minor": 5
}
